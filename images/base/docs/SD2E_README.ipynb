{
 "cells": [
  {
   "cell_type": "markdown",
   "metadata": {},
   "source": [
    "# SD2E Jupyter Notebook Environment\n"
   ]
  },
  {
   "cell_type": "markdown",
   "metadata": {},
   "source": [
    "## Fileystem Map\n",
    "```bash\n",
    "/home/jupyter\n",
    "├── examples - Exemplar Jupyter notebooks\n",
    "├── sd2e-community - SD2 primary project data\n",
    "├── sd2e-partners - Isolated storage for external partners\n",
    "├── sd2e-projects - Isolated storage for approved projects\n",
    "└── tacc-work - 1TB of persistent storage at TACC\n",
    "```\n"
   ]
  },
  {
   "cell_type": "markdown",
   "metadata": {},
   "source": [
    "* Data created in $HOME (/home/jupyter) will NOT be saved\n",
    "* Store persistent data, such as notebooks or data sets in `tacc-work`\n",
    "    * 1+ TB storage quota\n",
    "    * High performance accessible across all TACC systems\n",
    "    * Formerly _mydata_\n",
    "    * Available via Agave API as `data-tacc-work-<username>`\n",
    "* Access (read-only) primary project data in sd2e-community\n",
    "    * Available via Agave API as `data-sd2e-community`\n",
    "* Collaborate using the `data-sd2e-projects-users` Agave data resource\n",
    "\n",
    "## Sharing Notebooks\n",
    "\n",
    "* Find and share Jupyter notebooks with the sd2nb command in the Terminal\n",
    "    * sd2nb usage\n",
    "\n",
    "## Customizing the Jupyter environment\n",
    "\n",
    "The Jupyter environment now supports persistent custom conda environments and jupyter kernels. This means you no longer have to submit an issue and wait on us if you need a specialized notebook environment, accelerating your work.\n",
    "\n",
    "### Conda environments\n",
    "\n",
    "By default, we have two conda environments"
   ]
  },
  {
   "cell_type": "markdown",
   "metadata": {},
   "source": [
    "```bash\n",
    "$ conda env list\n",
    "\n",
    "# conda environments:\n",
    "#\n",
    "base                  *  /opt/conda (Python 3)\n",
    "python2                  /opt/conda/envs/python2\n",
    "```\n"
   ]
  },
  {
   "cell_type": "markdown",
   "metadata": {},
   "source": [
    "New persistent environments, which will not be affected by server restarts, can be installed to a persistent location as follows"
   ]
  },
  {
   "cell_type": "markdown",
   "metadata": {},
   "source": [
    "```bash\n",
    "$ conda create -y -p $LOCAL_ENVS/tabsAreGreat python=2.7 ipykernel 'scipy==0.16.0'\n",
    "\n",
    "# -y              - respond yes to all questions\n",
    "# -p PATH         - prefix/name\n",
    "# python=2.7      - python2 environment\n",
    "# ipykernel       - required to make a kernel file later\n",
    "# 'scipy==0.16.0' - scipy requirement\n",
    "```\n"
   ]
  },
  {
   "cell_type": "markdown",
   "metadata": {},
   "source": [
    "In this example, we created a new python 2 (`python=2.7`) environment called `tabsAreGreat` in the `$LOCAL_ENVS` directory that contains the `ipykernel` and `scipy==0.16.0` modules and all necessary dependencies."
   ]
  },
  {
   "cell_type": "markdown",
   "metadata": {},
   "source": [
    "```bash\n",
    "$ conda env list\n",
    "\n",
    "# conda environments:\n",
    "#\n",
    "tabsAreGreat             /home/jupyter/tacc-work/jupyter_packages/envs/tabsAreGreat\n",
    "base                  *  /opt/conda\n",
    "python2                  /opt/conda/envs/python2\n",
    "```\n"
   ]
  },
  {
   "cell_type": "markdown",
   "metadata": {},
   "source": [
    "This environment can now be utilized on the command line by entering the environment"
   ]
  },
  {
   "cell_type": "markdown",
   "metadata": {},
   "source": [
    "```bash\n",
    "$ conda activate tabsAreGreat\n",
    "```\n"
   ]
  },
  {
   "cell_type": "markdown",
   "metadata": {},
   "source": [
    "### New Jupyter kernels\n",
    "\n",
    "If you want to use your new envrionment with a notebook, you but create a corresponding Jupyter kernel. To follow these directions, you must have the **ipykernel** module installed in your environment. This was one of our requirements in the `tabsAreGreat` example environment.\n",
    "\n",
    "<img width=\"247\" alt=\"original kernels\" src=\"https://user-images.githubusercontent.com/6790115/38400287-0c2ccbc8-3915-11e8-9a80-08e7da97a790.png\">\n",
    "\n",
    "To create the kernel file, you need to call the `ipykernel` module using the absolute path to your custom python environment. The kernel should be installed (`--prefix`) to `$JUPYTER_WORK` which our Jupyter environment will automatically crawl for new kernels. The name (`--name`) should match your conda environment name (no spaces), but your display name should be human-readable and can contain spaces."
   ]
  },
  {
   "cell_type": "markdown",
   "metadata": {},
   "source": [
    "```bash\n",
    "$ $LOCAL_ENVS/tabsAreGreat/bin/python -m ipykernel install \\\n",
    "    --prefix $JUPYTER_WORK \\\n",
    "    --name tabsAreGreat \\\n",
    "    --display-name \"tabs are great\"\n",
    "\n",
    "# -m ipykernel install              - install a jupyter kernel\n",
    "# --prefix $JUPYTER_WORK            - kernel installation path\n",
    "# --name tabsAreGreat               - name of the kernel (no spaces)\n",
    "# --display-name \"tabs are great\"   - the name that will display in the drop-down list\n",
    "```\n"
   ]
  },
  {
   "cell_type": "markdown",
   "metadata": {},
   "source": [
    "Once this is run, you can refresh your main Jupyter page, and you should see the following in your choice of kernels.\n",
    "\n",
    "<img width=\"230\" alt=\"new kernel\" src=\"https://user-images.githubusercontent.com/6790115/38400720-20c60430-3917-11e8-93fb-5863b76d7e89.png\">\n",
    "\n",
    "Just remember that this kernel is specific to you and any collaborators will need to create their own to utilize any of your notebooks.\n",
    "\n",
    "### Removing Jupyter kernels\n",
    "\n",
    "When you no longer need a Jupyter kernel you created, you can remove it as follows"
   ]
  },
  {
   "cell_type": "markdown",
   "metadata": {},
   "source": [
    "```bash\n",
    "$ rm -rf $JUPYTER_WORK/share/jupyter/kernels/tabsaregreat\n",
    "```\n"
   ]
  },
  {
   "cell_type": "markdown",
   "metadata": {},
   "source": [
    "You can also remove all custom Jupyter kernels using"
   ]
  },
  {
   "cell_type": "markdown",
   "metadata": {},
   "source": [
    "```bash\n",
    "$ rm -rf $JUPYTER_WORK/share/jupyter/kernels\n",
    "```\n"
   ]
  },
  {
   "cell_type": "markdown",
   "metadata": {},
   "source": [
    "### Removing Conda environments\n",
    "\n",
    "When you no longer need a custom conda environment, you can delete a specific one"
   ]
  },
  {
   "cell_type": "markdown",
   "metadata": {},
   "source": [
    "```bash\n",
    "$ rm -rf $LOCAL_ENVS/tabsAreGreat\n",
    "```\n"
   ]
  },
  {
   "cell_type": "markdown",
   "metadata": {},
   "source": [
    "or all of them"
   ]
  },
  {
   "cell_type": "markdown",
   "metadata": {},
   "source": [
    "```bash\n",
    "$ rm -rf $LOCAL_ENVS\n",
    "```\n"
   ]
  },
  {
   "cell_type": "markdown",
   "metadata": {},
   "source": [
    "## API integration\n",
    "\n",
    "* TACC Cloud CLI is pre-configured with your credentials\n",
    "* AgavePy Python 2.7.x library is pre-conigured with your credentials\n",
    "\n",
    "Learn more about collaborating using Agave Cloud APIs\n",
    "- http://sd2e.org/api-user-guide/\n",
    "\n",
    "Latest notebook documentation\n",
    "- https://github.com/SD2E/jupyteruser-sd2e/blob/master/README.md\n",
    "\n",
    "Latest notebook issue log\n",
    "- https://github.com/SD2E/jupyteruser-sd2e/issues\n",
    "\n",
    "Learn more about sharing notebooks\n",
    "- https://github.com/SD2E/sd2nb-app/blob/master/README.md\n",
    "\n",
    "## Get Help\n",
    "- Web: https://sd2e.org/tickets/\n",
    "- Email: support@sd2e.org\n",
    "- Slack: https://sd2e.slack.com/messages/cyberinfrastructure"
   ]
  }
 ],
 "metadata": {},
 "nbformat": 4,
 "nbformat_minor": 0
}
