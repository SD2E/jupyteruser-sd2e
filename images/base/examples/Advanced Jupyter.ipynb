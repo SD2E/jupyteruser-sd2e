{
 "cells": [
  {
   "cell_type": "markdown",
   "metadata": {},
   "source": [
    "# Advanced Jupyter\n",
    "\n",
    "If you have ever felt constrained by our choices of kernels and environments included in the SD2E Jupyter server, this notebook will demonstrate how to:\n",
    "\n",
    "- Create your own conda environment\n",
    "- Create your own Jupyter Kernel\n",
    "- Use your new Jupyter Kernel\n",
    "- Clean your local environment\n",
    "\n",
    "We have taken the time to remove most of the hurdles to this process, but please submit an issue to\n",
    "\n",
    "https://github.com/SD2E/jupyteruser-sd2e/issues\n",
    "\n",
    "if you run into any walls.\n",
    "\n",
    "## Creating a new conda envrionment\n",
    "\n",
    "We are utilizing the [Anaconda python distribution](https://www.anaconda.com/what-is-anaconda/) for SD2E since it \n",
    "\n",
    "- ships with the Intel MKL\n",
    "- manages python and system packages\n",
    "- allows and manages encapsulated environments\n",
    "\n",
    "So we can support as many development environments as possible. If you would like a brand new environment, but do not want it to be incorporated into the base image (what you are running right now), you can create a local environment that conda will manage and persist between server restarts.\n",
    "\n",
    "First, lets see what `conda` environments are currently available:"
   ]
  },
  {
   "cell_type": "code",
   "execution_count": 2,
   "metadata": {},
   "outputs": [
    {
     "name": "stdout",
     "output_type": "stream",
     "text": [
      "# conda environments:\n",
      "#\n",
      "base                  *  /opt/conda\n",
      "python2                  /opt/conda/envs/python2\n",
      "\n"
     ]
    }
   ],
   "source": [
    "conda env list"
   ]
  },
  {
   "cell_type": "markdown",
   "metadata": {},
   "source": [
    "If you have not modified your environment, you should see two environments:\n",
    "\n",
    "- **base** - (python3) activated with `source activate root`\n",
    "- **python2** - activated with `source activate python2`\n",
    "\n",
    "I am developing a new analysis that is dependant on scipy 0.16.0, which is older than (and conflicts with) the version of scipy in the main python2 environment. Creating a brand new environment will be the easiest path forward for my development, so lets create one called \"tabsAreGreat\" with [`conda create`](https://conda.io/docs/commands/conda-create.html).\n",
    "\n",
    "To make your life a little easier, we created a `LOCAL_ENVS` variable for you to prefix your environment with, and added it to the path that conda crawls when search for environments."
   ]
  },
  {
   "cell_type": "code",
   "execution_count": 4,
   "metadata": {},
   "outputs": [
    {
     "name": "stdout",
     "output_type": "stream",
     "text": [
      "Solving environment: done\n",
      "\n",
      "## Package Plan ##\n",
      "\n",
      "  environment location: /home/jupyter/tacc-work/jupyter_packages/envs/tabsAreGreat\n",
      "\n",
      "  added / updated specs: \n",
      "    - ipykernel\n",
      "    - python=2.7\n",
      "    - scipy==0.16.0\n",
      "\n",
      "\n",
      "The following packages will be downloaded:\n",
      "\n",
      "    package                    |            build\n",
      "    ---------------------------|-----------------\n",
      "    scipy-0.16.0               |      np110py27_1        23.9 MB  anaconda\n",
      "    scandir-1.7                |   py27h14c3975_0          27 KB  anaconda\n",
      "    libgfortran-3.0.0          |                1         281 KB  anaconda\n",
      "    wheel-0.31.0               |           py27_0          61 KB  anaconda\n",
      "    openblas-0.2.14            |                4         3.6 MB  anaconda\n",
      "    pyzmq-17.0.0               |   py27h14c3975_0         440 KB  anaconda\n",
      "    python-2.7.14              |      h1571d57_31        11.8 MB  anaconda\n",
      "    tornado-5.0.1              |           py27_1         617 KB  anaconda\n",
      "    python-dateutil-2.7.2      |           py27_0         254 KB  anaconda\n",
      "    pip-9.0.3                  |           py27_0         2.4 MB  anaconda\n",
      "    pexpect-4.4.0              |           py27_0          70 KB  anaconda\n",
      "    readline-7.0               |       ha6073c6_4         1.1 MB  anaconda\n",
      "    ipykernel-4.8.2            |           py27_0         143 KB  anaconda\n",
      "    setuptools-39.0.1          |           py27_0         582 KB  anaconda\n",
      "    numpy-1.10.2               |           py27_0         5.9 MB  anaconda\n",
      "    ipython-5.6.0              |           py27_0        1020 KB  anaconda\n",
      "    jupyter_client-5.2.3       |           py27_0         122 KB  anaconda\n",
      "    ------------------------------------------------------------\n",
      "                                           Total:        52.2 MB\n",
      "\n",
      "The following NEW packages will be INSTALLED:\n",
      "\n",
      "    backports:                          1.0-py27h63c9359_1     anaconda\n",
      "    backports.shutil_get_terminal_size: 1.0.0-py27h5bc021e_2   anaconda\n",
      "    backports_abc:                      0.5-py27h7b3c97b_0     anaconda\n",
      "    ca-certificates:                    2018.03.07-0           anaconda\n",
      "    certifi:                            2018.1.18-py27_0       anaconda\n",
      "    decorator:                          4.2.1-py27_0           anaconda\n",
      "    enum34:                             1.1.6-py27h99a27e9_1   anaconda\n",
      "    futures:                            3.2.0-py27h7b459c0_0   anaconda\n",
      "    ipykernel:                          4.8.2-py27_0           anaconda\n",
      "    ipython:                            5.6.0-py27_0           anaconda\n",
      "    ipython_genutils:                   0.2.0-py27h89fb69b_0   anaconda\n",
      "    jupyter_client:                     5.2.3-py27_0           anaconda\n",
      "    jupyter_core:                       4.4.0-py27h345911c_0   anaconda\n",
      "    libedit:                            3.1-heed3624_0         anaconda\n",
      "    libffi:                             3.2.1-hd88cf55_4       anaconda\n",
      "    libgcc-ng:                          7.2.0-hdf63c60_3       anaconda\n",
      "    libgfortran:                        3.0.0-1                anaconda\n",
      "    libsodium:                          1.0.16-h1bed415_0      anaconda\n",
      "    libstdcxx-ng:                       7.2.0-hdf63c60_3       anaconda\n",
      "    ncurses:                            6.0-h9df7e31_2         anaconda\n",
      "    numpy:                              1.10.2-py27_0          anaconda\n",
      "    openblas:                           0.2.14-4               anaconda\n",
      "    openssl:                            1.0.2o-h20670df_0      anaconda\n",
      "    pathlib2:                           2.3.0-py27h6e9d198_0   anaconda\n",
      "    pexpect:                            4.4.0-py27_0           anaconda\n",
      "    pickleshare:                        0.7.4-py27h09770e1_0   anaconda\n",
      "    pip:                                9.0.3-py27_0           anaconda\n",
      "    prompt_toolkit:                     1.0.15-py27h1b593e1_0  anaconda\n",
      "    ptyprocess:                         0.5.2-py27h4ccb14c_0   anaconda\n",
      "    pygments:                           2.2.0-py27h4a8b6f5_0   anaconda\n",
      "    python:                             2.7.14-h1571d57_31     anaconda\n",
      "    python-dateutil:                    2.7.2-py27_0           anaconda\n",
      "    pyzmq:                              17.0.0-py27h14c3975_0  anaconda\n",
      "    readline:                           7.0-ha6073c6_4         anaconda\n",
      "    scandir:                            1.7-py27h14c3975_0     anaconda\n",
      "    scipy:                              0.16.0-np110py27_1     anaconda\n",
      "    setuptools:                         39.0.1-py27_0          anaconda\n",
      "    simplegeneric:                      0.8.1-py27_2           anaconda\n",
      "    singledispatch:                     3.4.0.3-py27h9bcb476_0 anaconda\n",
      "    six:                                1.11.0-py27h5f960f1_1  anaconda\n",
      "    sqlite:                             3.22.0-h1bed415_0      anaconda\n",
      "    tk:                                 8.6.7-hc745277_3       anaconda\n",
      "    tornado:                            5.0.1-py27_1           anaconda\n",
      "    traitlets:                          4.3.2-py27hd6ce930_0   anaconda\n",
      "    wcwidth:                            0.1.7-py27h9e3e1ab_0   anaconda\n",
      "    wheel:                              0.31.0-py27_0          anaconda\n",
      "    zeromq:                             4.2.3-h439df22_3       anaconda\n",
      "    zlib:                               1.2.11-ha838bed_2      anaconda\n",
      "\n",
      "\n",
      "Downloading and Extracting Packages\n",
      "scipy 0.16.0: ########################################################## | 100% \n",
      "scandir 1.7: ########################################################### | 100% \n",
      "libgfortran 3.0.0: ##################################################### | 100% \n",
      "wheel 0.31.0: ########################################################## | 100% \n",
      "openblas 0.2.14: ####################################################### | 100% \n",
      "pyzmq 17.0.0: ########################################################## | 100% \n",
      "python 2.7.14: ######################################################### | 100% \n",
      "tornado 5.0.1: ######################################################### | 100% \n",
      "python-dateutil 2.7.2: ################################################# | 100% \n",
      "pip 9.0.3: ############################################################# | 100% \n",
      "pexpect 4.4.0: ######################################################### | 100% \n",
      "readline 7.0: ########################################################## | 100% \n",
      "ipykernel 4.8.2: ####################################################### | 100% \n",
      "setuptools 39.0.1: ##################################################### | 100% \n",
      "numpy 1.10.2: ########################################################## | 100% \n",
      "ipython 5.6.0: ######################################################### | 100% \n",
      "jupyter_client 5.2.3: ################################################## | 100% \n",
      "Preparing transaction: done\n",
      "Verifying transaction: done\n",
      "Executing transaction: done\n",
      "#\n",
      "# To activate this environment, use:\n",
      "# > source activate /home/jupyter/tacc-work/jupyter_packages/envs/tabsAreGreat\n",
      "#\n",
      "# To deactivate an active environment, use:\n",
      "# > source deactivate\n",
      "#\n",
      "\n"
     ]
    }
   ],
   "source": [
    "conda create -y -p $LOCAL_ENVS/tabsAreGreat python=2.7 ipykernel 'scipy==0.16.0'\n",
    "\n",
    "# -y              - respond yes to all questions\n",
    "# -p PATH         - prefix/name\n",
    "# python=2.7      - python2 environment\n",
    "# ipykernel       - required to make a kernel file later\n",
    "# 'scipy==0.16.0' - scipy requirement"
   ]
  },
  {
   "cell_type": "markdown",
   "metadata": {},
   "source": [
    "You should now be able to list this new environment"
   ]
  },
  {
   "cell_type": "code",
   "execution_count": 5,
   "metadata": {},
   "outputs": [
    {
     "name": "stdout",
     "output_type": "stream",
     "text": [
      "# conda environments:\n",
      "#\n",
      "tabsAreGreat             /home/jupyter/tacc-work/jupyter_packages/envs/tabsAreGreat\n",
      "base                  *  /opt/conda\n",
      "python2                  /opt/conda/envs/python2\n",
      "\n"
     ]
    }
   ],
   "source": [
    "conda env list"
   ]
  },
  {
   "cell_type": "markdown",
   "metadata": {},
   "source": [
    "You can now see that this new \"tabsAreGreat\" environment was created in your `tacc-work` directory, so it will persist between reboots, and you will be able to utilize it with\n",
    "```\n",
    "source activate tabsAreGreat\n",
    "```\n",
    "until your delete it.\n",
    "\n",
    "## Creating new Jupyter kernels\n",
    "\n",
    "While you now have a brand new conda environment, you can only interact with it over the command line.\n",
    "\n",
    "<img width=\"247\" alt=\"original kernels\" src=\"https://user-images.githubusercontent.com/6790115/38400287-0c2ccbc8-3915-11e8-9a80-08e7da97a790.png\">\n",
    "\n",
    "You need to first create a new kernel spec to use it in a notebook. Once again, we created a convenience variable called `JUPYTER_WORK` which the Jupyter server automatically polls. To create it, invoke the python in your new environment\n",
    "```\n",
    "$LOCAL_ENVS/tabsAreGreat\n",
    "```\n",
    "with the following arguments:"
   ]
  },
  {
   "cell_type": "code",
   "execution_count": 6,
   "metadata": {},
   "outputs": [
    {
     "name": "stdout",
     "output_type": "stream",
     "text": [
      "Installed kernelspec tabsAreGreat in /home/jupyter/tacc-work/jupyter_packages/share/jupyter/kernels/tabsaregreat\n"
     ]
    }
   ],
   "source": [
    "$LOCAL_ENVS/tabsAreGreat/bin/python -m ipykernel install \\\n",
    "    --prefix $JUPYTER_WORK \\\n",
    "    --name tabsAreGreat \\\n",
    "    --display-name \"tabs are great\"\n",
    "\n",
    "# -m ipykernel install              - install a jupyter kernel\n",
    "# --prefix $JUPYTER_WORK            - kernel installation path\n",
    "# --name tabsAreGreat               - name of the kernel (no spaces)\n",
    "# --display-name \"tabs are great\"   - the name that will display in the drop-down list"
   ]
  },
  {
   "cell_type": "markdown",
   "metadata": {},
   "source": [
    "You can see that once again, this was installed to your `tacc-work` directory, so it will persist until you delete it.\n",
    "\n",
    "## Use your new kernel\n",
    "\n",
    "To use it (as in right now) just refresh the main Jupyter tab and click the \"New\" drop-down tab\n",
    "\n",
    "<img width=\"230\" alt=\"new kernel\" src=\"https://user-images.githubusercontent.com/6790115/38400720-20c60430-3917-11e8-93fb-5863b76d7e89.png\">\n",
    "\n",
    "and you should see a new option called \"tabs are great\".\n",
    "\n",
    "## Clean your environment\n",
    "\n",
    "When you want to de-clutter your development environment and remove both this kernel and environment, you just have to delete two directories:"
   ]
  },
  {
   "cell_type": "code",
   "execution_count": 9,
   "metadata": {},
   "outputs": [],
   "source": [
    "# Conda environment\n",
    "rm -rf $LOCAL_ENVS/tabsAreGreat\n",
    "# Jupyter kernel\n",
    "rm -rf $JUPYTER_WORK/share/jupyter/kernels/tabsaregreat"
   ]
  },
  {
   "cell_type": "markdown",
   "metadata": {},
   "source": [
    "All traces of this environment should now be gone."
   ]
  },
  {
   "cell_type": "code",
   "execution_count": 10,
   "metadata": {},
   "outputs": [
    {
     "name": "stdout",
     "output_type": "stream",
     "text": [
      "# conda environments:\n",
      "#\n",
      "base                  *  /opt/conda\n",
      "python2                  /opt/conda/envs/python2\n",
      "\n"
     ]
    }
   ],
   "source": [
    "conda env list"
   ]
  },
  {
   "cell_type": "markdown",
   "metadata": {},
   "source": [
    "## Extra functionality\n",
    "\n",
    "If you think we should handle additional functionality in the SD2E Jupyter environment, please submit a feature request to\n",
    "\n",
    "https://github.com/SD2E/jupyteruser-sd2e/issues\n",
    "\n",
    "Thanks and happy hacking!\n",
    "\n",
    "-- TACC"
   ]
  }
 ],
 "metadata": {
  "kernelspec": {
   "display_name": "Bash",
   "language": "bash",
   "name": "bash"
  },
  "language_info": {
   "codemirror_mode": "shell",
   "file_extension": ".sh",
   "mimetype": "text/x-sh",
   "name": "bash"
  }
 },
 "nbformat": 4,
 "nbformat_minor": 2
}
