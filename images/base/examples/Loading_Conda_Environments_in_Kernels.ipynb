{
 "cells": [
  {
   "cell_type": "markdown",
   "metadata": {},
   "source": [
    "# Loading conda environments in jupyter kernels\n",
    "\n",
    "If you have created a custom conda environment and jupyter kernel, you may have noticed that executables are not added to the shell path inside the notebook. This notebook will show you how to support this type of workflow by demonstrating how to\n",
    "\n",
    "- Create a conda environment with executables\n",
    "- Access those tools on the CLI\n",
    "- Create a Jupyter kernel for this environment\n",
    "- Clean your local environment\n",
    "\n",
    "We have taken the time to remove most of the hurdles to this process, but please submit an issue to\n",
    "\n",
    "https://github.com/SD2E/jupyteruser-sd2e/issues\n",
    "\n",
    "if you run into any walls.\n",
    "\n",
    "## Creating a new conda envrionment\n",
    "\n",
    "We are utilizing the [Anaconda python distribution](https://www.anaconda.com/what-is-anaconda/) for SD2E since it \n",
    "\n",
    "- ships with the Intel MKL\n",
    "- manages python and system packages\n",
    "- allows and manages encapsulated environments\n",
    "\n",
    "So we can support as many development environments as possible. If you would like a brand new environment, but do not want it to be incorporated into the base image (what you are running right now), you can create a local environment that conda will manage and persist between server restarts.\n",
    "\n",
    "First, lets see what `conda` environments are currently available:"
   ]
  },
  {
   "cell_type": "code",
   "execution_count": 1,
   "metadata": {},
   "outputs": [
    {
     "name": "stdout",
     "output_type": "stream",
     "text": [
      "# conda environments:\n",
      "#\n",
      "base                  *  /opt/conda\n",
      "python2                  /opt/conda/envs/python2\n",
      "\n"
     ]
    }
   ],
   "source": [
    "conda env list"
   ]
  },
  {
   "cell_type": "markdown",
   "metadata": {},
   "source": [
    "If you have not modified your environment, you should see two environments:\n",
    "\n",
    "- **base** - (python3) activated with `source activate base`\n",
    "- **python2** - activated with `source activate python2`\n",
    "\n",
    "I am developing a new workflow that is dependant on using the BWA aligner inside my Jupyter notebook. While it is possible to `source activate` a different environment on the terminal, this does not persist between shell call in python.\n",
    "\n",
    "To start, I am going to create a brand new Python 3.6 environment called `bioinfo` containing [**bwa**](https://github.com/lh3/bwa) from the [bioconda](https://bioconda.github.io/) channel using [`conda create`](https://conda.io/docs/commands/conda-create.html). We also created a `LOCAL_ENVS` variable for you to prefix your environment with, and added it to the path that conda crawls when searching for environments."
   ]
  },
  {
   "cell_type": "code",
   "execution_count": 2,
   "metadata": {},
   "outputs": [
    {
     "name": "stdout",
     "output_type": "stream",
     "text": [
      "Solving environment: done\n",
      "\n",
      "\n",
      "==> WARNING: A newer version of conda exists. <==\n",
      "  current version: 4.5.1\n",
      "  latest version: 4.5.4\n",
      "\n",
      "Please update conda by running\n",
      "\n",
      "    $ conda update -n base conda\n",
      "\n",
      "\n",
      "\n",
      "## Package Plan ##\n",
      "\n",
      "  environment location: /home/jupyter/tacc-work/jupyter_packages/envs/bioinfo\n",
      "\n",
      "  added / updated specs: \n",
      "    - bwa==0.7.17\n",
      "    - ipykernel\n",
      "    - python=3.6\n",
      "\n",
      "\n",
      "The following NEW packages will be INSTALLED:\n",
      "\n",
      "    backcall:         0.1.0-py36_0            defaults   \n",
      "    bwa:              0.7.17-pl5.22.0_2       bioconda   \n",
      "    ca-certificates:  2018.03.07-0            defaults   \n",
      "    certifi:          2018.4.16-py36_0        defaults   \n",
      "    decorator:        4.3.0-py36_0            defaults   \n",
      "    ipykernel:        4.8.2-py36_0            defaults   \n",
      "    ipython:          6.4.0-py36_0            defaults   \n",
      "    ipython_genutils: 0.2.0-py36hb52b0d5_0    defaults   \n",
      "    jedi:             0.12.0-py36_1           defaults   \n",
      "    jupyter_client:   5.2.3-py36_0            defaults   \n",
      "    jupyter_core:     4.4.0-py36h7c827e3_0    defaults   \n",
      "    libedit:          3.1.20170329-h6b74fdf_2 defaults   \n",
      "    libffi:           3.2.1-hd88cf55_4        defaults   \n",
      "    libgcc:           7.2.0-h69d50b8_2        defaults   \n",
      "    libgcc-ng:        7.2.0-hdf63c60_3        defaults   \n",
      "    libsodium:        1.0.16-h1bed415_0       defaults   \n",
      "    libstdcxx-ng:     7.2.0-hdf63c60_3        defaults   \n",
      "    ncurses:          6.1-hf484d3e_0          defaults   \n",
      "    openssl:          1.0.2o-h20670df_0       defaults   \n",
      "    parso:            0.2.1-py36_0            defaults   \n",
      "    perl:             5.22.0.1-0              conda-forge\n",
      "    pexpect:          4.6.0-py36_0            defaults   \n",
      "    pickleshare:      0.7.4-py36h63277f8_0    defaults   \n",
      "    pip:              10.0.1-py36_0           defaults   \n",
      "    prompt_toolkit:   1.0.15-py36h17d85b1_0   defaults   \n",
      "    ptyprocess:       0.5.2-py36h69acd42_0    defaults   \n",
      "    pygments:         2.2.0-py36h0d3125c_0    defaults   \n",
      "    python:           3.6.5-hc3d631a_2        defaults   \n",
      "    python-dateutil:  2.7.3-py36_0            defaults   \n",
      "    pyzmq:            17.0.0-py36h14c3975_0   defaults   \n",
      "    readline:         7.0-ha6073c6_4          defaults   \n",
      "    setuptools:       39.2.0-py36_0           defaults   \n",
      "    simplegeneric:    0.8.1-py36_2            defaults   \n",
      "    six:              1.11.0-py36h372c433_1   defaults   \n",
      "    sqlite:           3.23.1-he433501_0       defaults   \n",
      "    tk:               8.6.7-hc745277_3        defaults   \n",
      "    tornado:          5.0.2-py36_0            defaults   \n",
      "    traitlets:        4.3.2-py36h674d592_0    defaults   \n",
      "    wcwidth:          0.1.7-py36hdf4376a_0    defaults   \n",
      "    wheel:            0.31.1-py36_0           defaults   \n",
      "    xz:               5.2.4-h14c3975_4        defaults   \n",
      "    zeromq:           4.2.5-h439df22_0        defaults   \n",
      "    zlib:             1.2.11-ha838bed_2       defaults   \n",
      "\n",
      "Preparing transaction: done\n",
      "Verifying transaction: done\n",
      "Executing transaction: done\n",
      "#\n",
      "# To activate this environment, use:\n",
      "# > source activate /home/jupyter/tacc-work/jupyter_packages/envs/bioinfo\n",
      "#\n",
      "# To deactivate an active environment, use:\n",
      "# > source deactivate\n",
      "#\n",
      "\n"
     ]
    }
   ],
   "source": [
    "conda create -y -p $LOCAL_ENVS/bioinfo -c defaults -c conda-forge -c bioconda \\\n",
    "    python=3.6 ipykernel 'bwa==0.7.17'\n",
    "\n",
    "# -y                 - respond yes to all questions\n",
    "# -p PATH            - prefix/name\n",
    "# -c defaults        - resolve packages in defaults first\n",
    "# -c conda-forge     - look for packages in conda-forge second\n",
    "# -c bioconda        - look for packages in bioconda LAST\n",
    "# python=3.6         - python3 environment\n",
    "# ipykernel          - required to make a kernel file later\n",
    "# 'bwa==0.7.17'      - install bwa"
   ]
  },
  {
   "cell_type": "markdown",
   "metadata": {},
   "source": [
    "You should now be able to list this new environment"
   ]
  },
  {
   "cell_type": "code",
   "execution_count": 3,
   "metadata": {},
   "outputs": [
    {
     "name": "stdout",
     "output_type": "stream",
     "text": [
      "# conda environments:\n",
      "#\n",
      "bioinfo                  /home/jupyter/tacc-work/jupyter_packages/envs/bioinfo\n",
      "base                  *  /opt/conda\n",
      "python2                  /opt/conda/envs/python2\n",
      "\n"
     ]
    }
   ],
   "source": [
    "conda env list"
   ]
  },
  {
   "cell_type": "markdown",
   "metadata": {},
   "source": [
    "You can now see that this new `bioinfo` environment was created in your `tacc-work` directory, so it will persist between reboots until your delete it."
   ]
  },
  {
   "cell_type": "markdown",
   "metadata": {},
   "source": [
    "## Accessing environment on the CLI\n",
    "\n",
    "Since `conda` can see your new environment, you just need to activate it to update your environment paths so you can ineract with the various\n",
    "- executables\n",
    "- libraries\n",
    "- python modules"
   ]
  },
  {
   "cell_type": "code",
   "execution_count": 4,
   "metadata": {},
   "outputs": [
    {
     "name": "stdout",
     "output_type": "stream",
     "text": [
      "(bioinfo) (bioinfo) (bioinfo) # conda environments:\n",
      "#\n",
      "bioinfo               *  /home/jupyter/tacc-work/jupyter_packages/envs/bioinfo\n",
      "base                     /opt/conda\n",
      "python2                  /opt/conda/envs/python2\n",
      "\n",
      "(bioinfo) "
     ]
    },
    {
     "ename": "",
     "evalue": "1",
     "output_type": "error",
     "traceback": []
    }
   ],
   "source": [
    "# Activate bioinfo environment\n",
    "source activate bioinfo\n",
    "\n",
    "# See that bioinfo is loaded\n",
    "conda env list"
   ]
  },
  {
   "cell_type": "code",
   "execution_count": 5,
   "metadata": {},
   "outputs": [
    {
     "name": "stdout",
     "output_type": "stream",
     "text": [
      "(bioinfo) \n",
      "Program: bwa (alignment via Burrows-Wheeler transformation)\n",
      "Version: 0.7.17-r1188\n",
      "Contact: Heng Li <lh3@sanger.ac.uk>\n",
      "\n",
      "Usage:   bwa <command> [options]\n",
      "\n",
      "Command: index         index sequences in the FASTA format\n",
      "         mem           BWA-MEM algorithm\n",
      "         fastmap       identify super-maximal exact matches\n",
      "         pemerge       merge overlapping paired ends (EXPERIMENTAL)\n",
      "         aln           gapped/ungapped alignment\n",
      "         samse         generate alignment (single ended)\n",
      "         sampe         generate alignment (paired ended)\n",
      "         bwasw         BWA-SW for long queries\n",
      "\n",
      "         shm           manage indices in shared memory\n",
      "         fa2pac        convert FASTA to PAC format\n",
      "         pac2bwt       generate BWT from PAC\n",
      "         pac2bwtgen    alternative algorithm for generating BWT\n",
      "         bwtupdate     update .bwt to the new format\n",
      "         bwt2sa        generate SA from BWT and Occ\n",
      "\n",
      "Note: To use BWA, you need to first index the genome with `bwa index'.\n",
      "      There are three alignment algorithms in BWA: `mem', `bwasw', and\n",
      "      `aln/samse/sampe'. If you are not sure which to use, try `bwa mem'\n",
      "      first. Please `man ./bwa.1' for the manual.\n",
      "\n",
      "(bioinfo) (bioinfo) (bioinfo) "
     ]
    }
   ],
   "source": [
    "# Call bwa\n",
    "bwa\n",
    "\n",
    "# Deactivate for good measure\n",
    "source deactivate bioinfo"
   ]
  },
  {
   "cell_type": "markdown",
   "metadata": {},
   "source": [
    "## Creating a Jupyter kernel that uses the environment\n",
    "\n",
    "To use your new environment with Jupyter, you need to first create a new kernel spec. Once again, we created a convenience variable called `JUPYTER_WORK` which the Jupyter server automatically polls. To create it, invoke the python in your new environment\n",
    "```\n",
    "$LOCAL_ENVS/bioinfo\n",
    "```\n",
    "with the following arguments:"
   ]
  },
  {
   "cell_type": "code",
   "execution_count": 6,
   "metadata": {},
   "outputs": [
    {
     "name": "stdout",
     "output_type": "stream",
     "text": [
      "Installed kernelspec bioinfo in /home/jupyter/tacc-work/jupyter_packages/share/jupyter/kernels/bioinfo\n"
     ]
    }
   ],
   "source": [
    "$LOCAL_ENVS/bioinfo/bin/python -m ipykernel install \\\n",
    "    --prefix $JUPYTER_WORK \\\n",
    "    --name bioinfo \\\n",
    "    --display-name \"Bioinformatics\"\n",
    "\n",
    "# !! MUST use full $LOCAL_ENVS/bioinfo/bin/python path !!\n",
    "\n",
    "# -m ipykernel install              - install a jupyter kernel\n",
    "# --prefix $JUPYTER_WORK            - kernel installation path\n",
    "# --name bioinfo                    - name of the kernel (no spaces)\n",
    "# --display-name \"Bioinformatics\"   - the name that will display in the drop-down list"
   ]
  },
  {
   "cell_type": "markdown",
   "metadata": {},
   "source": [
    "You will also need to modify your jupyter kernel to so it first activates your environment"
   ]
  },
  {
   "cell_type": "code",
   "execution_count": 7,
   "metadata": {},
   "outputs": [
    {
     "name": "stdout",
     "output_type": "stream",
     "text": [
      "Original kernel\n",
      "{\n",
      " \"argv\": [\n",
      "  \"/home/jupyter/tacc-work/jupyter_packages/envs/bioinfo/bin/python\",\n",
      "  \"-m\",\n",
      "  \"ipykernel_launcher\",\n",
      "  \"-f\",\n",
      "  \"{connection_file}\"\n",
      " ],\n",
      " \"display_name\": \"Bioinformatics\",\n",
      " \"language\": \"python\"\n",
      "}\n",
      "\n",
      "Modified kernel\n",
      "{\n",
      "  \"argv\": [\n",
      "    \"activate_kernel\",\n",
      "    \"bioinfo\",\n",
      "    \"{connection_file}\"\n",
      "  ],\n",
      "  \"display_name\": \"Bioinformatics\",\n",
      "  \"language\": \"python\"\n",
      "}\n"
     ]
    }
   ],
   "source": [
    "# The kernel you want to modify\n",
    "KERN=bioinfo\n",
    "# Temporary kernel\n",
    "TMPF=/tmp/tmp.json\n",
    "# Kernel you want to modify\n",
    "MODK=${JUPYTER_WORK}/share/jupyter/kernels/${KERN}/kernel.json\n",
    "\n",
    "echo \"Original kernel\"\n",
    "cat $MODK\n",
    "\n",
    "# Modify kernel with jq\n",
    "echo -e \"\\n\\nModified kernel\"\n",
    "jq \" .argv = [\\\"activate_kernel\\\", \\\"${KERN}\\\", \\\"{connection_file}\\\"] \" ${MODK} | tee $TMPF\n",
    "mv $TMPF ${MODK}"
   ]
  },
  {
   "cell_type": "markdown",
   "metadata": {},
   "source": [
    "All paths will now be correct in notebooks running this kernel.\n",
    "\n",
    "### Launch Notebook\n",
    "\n",
    "<img width=\"400\" alt=\"launch notebook\" src=\"https://user-images.githubusercontent.com/6790115/40860685-e5f624d6-65ab-11e8-81ca-f4f6f9ba18cd.png\">\n",
    "\n",
    "### Run BWA in python notebook\n",
    "\n",
    "<img width=\"700\" alt=\"run bwa\" src=\"https://user-images.githubusercontent.com/6790115/40860716-05dd89f6-65ac-11e8-9cb3-93938eda19f0.png\">\n",
    "\n",
    "## Clean your environment\n",
    "\n",
    "When you want to de-clutter your development environment and remove both this kernel and environment, you just have to delete two directories:"
   ]
  },
  {
   "cell_type": "code",
   "execution_count": 8,
   "metadata": {},
   "outputs": [],
   "source": [
    "# Conda environment\n",
    "rm -rf $LOCAL_ENVS/bioinfo\n",
    "# Jupyter kernel\n",
    "rm -rf $JUPYTER_WORK/share/jupyter/kernels/bioinfo"
   ]
  },
  {
   "cell_type": "markdown",
   "metadata": {},
   "source": [
    "All traces of this environment should now be gone."
   ]
  },
  {
   "cell_type": "code",
   "execution_count": 9,
   "metadata": {},
   "outputs": [
    {
     "name": "stdout",
     "output_type": "stream",
     "text": [
      "# conda environments:\n",
      "#\n",
      "base                  *  /opt/conda\n",
      "python2                  /opt/conda/envs/python2\n",
      "\n"
     ]
    }
   ],
   "source": [
    "conda env list"
   ]
  },
  {
   "cell_type": "markdown",
   "metadata": {},
   "source": [
    "## Extra functionality\n",
    "\n",
    "If you think we should handle additional functionality in the SD2E Jupyter environment, please submit a feature request to\n",
    "\n",
    "https://github.com/SD2E/jupyteruser-sd2e/issues\n",
    "\n",
    "Thanks and happy hacking!\n",
    "\n",
    "-- TACC"
   ]
  }
 ],
 "metadata": {
  "kernelspec": {
   "display_name": "Bash",
   "language": "bash",
   "name": "bash"
  },
  "language_info": {
   "codemirror_mode": "shell",
   "file_extension": ".sh",
   "mimetype": "text/x-sh",
   "name": "bash"
  }
 },
 "nbformat": 4,
 "nbformat_minor": 2
}
