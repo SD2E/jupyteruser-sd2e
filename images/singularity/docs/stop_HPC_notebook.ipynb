{
 "cells": [
  {
   "cell_type": "markdown",
   "metadata": {},
   "source": [
    "# Stopping your HPC notebook\n",
    "\n",
    "Assuming you have have an HPC notebook running, you can stop it through agave as follows:\n",
    "\n",
    "## Expand the jobs pane\n",
    "\n",
    "![expand](https://user-images.githubusercontent.com/6790115/48360646-4fd14400-e665-11e8-96a3-f3f4ea2554a1.png)\n",
    "\n",
    "## Request \"More Info\" about your job\n",
    "\n",
    "![more info](https://user-images.githubusercontent.com/6790115/48362075-747aeb00-e668-11e8-84c0-b4fa2b07c637.png)\n",
    "\n",
    "## Stop your job\n",
    "\n",
    "![cancel job](https://user-images.githubusercontent.com/6790115/48360748-83ac6980-e665-11e8-9dd2-b0567276608a.png)\n",
    "\n",
    "Both \"Cancel\" and \"Delete\" will stop your job, but \"Delete\" will go a step further and remove the job record from your jobs history.\n",
    "\n",
    "This interaction can also be done from the agave CLI if you know your job ID or directly through slurm on Maverick itself.\n",
    "\n",
    "---\n",
    "\n",
    "*Created 2018-11-12*"
   ]
  }
 ],
 "metadata": {},
 "nbformat": 4,
 "nbformat_minor": 2
}
